{
  "nbformat": 4,
  "nbformat_minor": 0,
  "metadata": {
    "colab": {
      "name": "test.ipynb",
      "provenance": [],
      "collapsed_sections": [],
      "toc_visible": true,
      "authorship_tag": "ABX9TyMGaKIsy3g2Th5YcYa9V1MV",
      "include_colab_link": true
    },
    "kernelspec": {
      "name": "python3",
      "display_name": "Python 3"
    },
    "language_info": {
      "name": "python"
    }
  },
  "cells": [
    {
      "cell_type": "markdown",
      "metadata": {
        "id": "view-in-github",
        "colab_type": "text"
      },
      "source": [
        "<a href=\"https://colab.research.google.com/github/kpp3411/test/blob/main/test.ipynb\" target=\"_parent\"><img src=\"https://colab.research.google.com/assets/colab-badge.svg\" alt=\"Open In Colab\"/></a>"
      ]
    },
    {
      "cell_type": "code",
      "execution_count": null,
      "metadata": {
        "colab": {
          "base_uri": "https://localhost:8080/"
        },
        "id": "SDmJLiK-ZnSi",
        "outputId": "b2b92fb0-cc10-47a8-e594-41e6cc280cfe"
      },
      "outputs": [
        {
          "output_type": "stream",
          "name": "stdout",
          "text": [
            "Hello, world!\n",
            "7 squared is 49\n"
          ]
        }
      ],
      "source": [
        "print('Hello, world!')\n",
        "\n",
        "# импортируем импортируем pandas для работы с нашими данными, Matplotlib для построения графиков и Seaborn для улучшения внешнего вида наших графиков\n",
        "import pandas as pd\n",
        "import matplotlib.pyplot as plt\n",
        "import seaborn as sns\n",
        "sns.set(style=\"darkgrid\")\n",
        "\n",
        "# Обычно также импортируется NumPy, но в нашем случае, мы используем его через pandas, и нам не нужно это делать явно. \n",
        "# import numpy as np\n",
        "\n",
        "# почему-то этот фрагмент не работает.\n",
        "def say_hello(recipient):\n",
        "    return 'Hello, {}!'.format(recipient)\n",
        "say_hello('Панда загружена')\n",
        "\n",
        "# попробуем определить функцию\n",
        "def square(x):\n",
        "    return x * x\n",
        "x = np.random.randint(1, 10)\n",
        "y = square(x)\n",
        "print('%d squared is %d' % (x, y))\n"
      ]
    },
    {
      "cell_type": "code",
      "source": [
        "# мы загрузили наш набор данных переменную df в наиболее часто используемую структуру данных pandas, которая называется DataFrame и в основном выглядит как таблица\n",
        "df = pd.read_csv('C:\\temp\\123\\fortune500.csv')"
      ],
      "metadata": {
        "id": "Mwv6cjHdmfvs"
      },
      "execution_count": null,
      "outputs": []
    },
    {
      "cell_type": "code",
      "source": [
        "# переименуем столбцы, чтобы мы могли обратиться к ним позже.\n",
        "df.columns = ['year', 'rank', 'company', 'revenue', 'profit']\n",
        "len(df)\n",
        "df.dtypes\n",
        "non_numberic_profits = df.profit.str.contains('[^0-9.-]')\n",
        "df.loc[non_numberic_profits].head()"
      ],
      "metadata": {
        "id": "v8Kvx2M8m9Q8"
      },
      "execution_count": null,
      "outputs": []
    },
    {
      "cell_type": "code",
      "source": [
        "bin_sizes, _, _ = plt.hist(df.year[non_numberic_profits], bins=range(1955, 2006))"
      ],
      "metadata": {
        "id": "rlqH6ujgnp-B"
      },
      "execution_count": null,
      "outputs": []
    }
  ]
}